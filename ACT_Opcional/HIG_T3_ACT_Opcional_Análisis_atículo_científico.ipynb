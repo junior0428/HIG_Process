{
 "cells": [
  {
   "cell_type": "markdown",
   "metadata": {},
   "source": [
    "<img src=\"./img/hig_logo.png\">"
   ]
  },
  {
   "cell_type": "markdown",
   "metadata": {},
   "source": [
    "# HIG - Actividad Opcional - Análisis Artículo Científico\n",
    "---"
   ]
  },
  {
   "cell_type": "markdown",
   "metadata": {},
   "source": [
    "### Objetivo\n",
    "\n",
    "- Investigar sobre el estado actual sobre procesamiento de datos/imágenes en trabajos relacionados con el uso de Python y librerías específicas como NumPy, OpenCV, Scikit-image, u otras relevantes."
   ]
  },
  {
   "cell_type": "markdown",
   "metadata": {},
   "source": [
    "### Metodología\n",
    "\n",
    "- Buscar y seleccionar uno o dos artículos científicos publicados en revistas científicas indexadas. Google Académico (Scholar) es un buscador muy utilizado como primera búsqueda, aporta una primera idea sobre qué hay publicado y qué revistas hay sobre el tema.\n",
    "- Crear un notebook de Python que servirá como entrega de la actividad (se entregará el fichero .ipynb).\n",
    "- Desarrollar un resumen y (a ser posible) un ejemplo de lo comentado en el mismo con código en Python.\n",
    "- Separar bien los apartados propuestos con celdas Markdown.\n",
    "- Mantener una estructura limpia, comentando código y secuenciando los apartados con el código correspondiente que resuelva la actividad.\n",
    "- Como criterio de evaluación se tendrá en cuenta el resultado, la consecución del mismo, estilo, comentarios y adecuación. Siempre será tenido en cuenta cualquier detalle técnico avanzado o no visto en clase relacionado con el tema (explicar el porqué y usabilidad).\n",
    "- La/as referencia/as deberán tener un formato adecuado. No importa el estilo, pero los más utilizados son: IEEE, Harvard, science,...\n",
    "- No hay límite de palabras, pero se valorará la capacidad de síntesis.\n",
    "- A parte de las referencias de artículos científicos, se puede aportar otras (no científicas) que complementen el tema."
   ]
  },
  {
   "cell_type": "markdown",
   "metadata": {},
   "source": [
    "### Ejemplo de estructura del trabajo\n",
    "\n",
    "Esta actividad se trabaja sobre el entorno de Jupyter y en el resumen o exposición del artículo escogido se abordarán diferentes aspectos relacionados con el Tema 3 de la asignatura HIG.\n",
    "\n",
    "Un ejemplo de cómo puede plantearse el desarrollo de esta actividad sería hablar o resumir la/as referencias, explicar la importancia que tienen en la actualidad respecto al marco de conocimiento establecido. \n",
    "\n",
    "A continuación se expone un ejemplo con posibles cuestiones a abordar en la actividad. Artículos seleccionados:\n",
    "\n",
    "[1] Van Der Walt, S., Colbert, S. C., Varoquaux, G. (2011). The NumPy array: A structure for efficient numerical computation. Computing in Science and Engineering, 13(2), 22-30. https://www.researchgate.net/publication/224223550_The_NumPy_Array_A_Structure_for_Efficient_Numerical_\n",
    "\n",
    "Computation\n",
    "[2] McKinney, W. (2010). Data Structures for Statistical Computing in Python. Proceedings of the 9th Python in Science Conference, December, 56-61. https://www.researchgate.net/publication/265001241_Data_Structures_for_Statistical_Computing_in_Python\n",
    "\n",
    "\n",
    "En el artículo 1 se presenta la estructura ndarray de NumPy, y se hace un estudio sobre su uso y cómo mejora el rendimiento de ciertas operaciones matemáticas para la computación numérica. Se hace una breve introducción al Broadcasting como técnica que usa NumPy para realizar operaciones aritméticas sobre dos o más arrays con distintas dimensiones:\n",
    "- Pregunta 1 - Ampliar dicha explicación, aportando posibles restricciones o limitaciones a dicho sistema y ejemplos propios de los casos de uso.\n",
    "\n",
    "También se introduce el trabajo con ficheros usando memoria mapeada:\n",
    "- Pregunta 2 - Verificar la eficacia y mejora posible de rendimiento del uso de memoria mapeada sobre ndarrays de tamaños grandes.\n",
    "\n",
    "En el artículo 2 el creador de pandas introduce dicha librería en comparación con las estructuras nativas de R.\n",
    "- Pregunta 3 - Desarrollar una opinión razonada del estado actual de las herramientas de análisis de datos estadísticos en contraposición a como se muestran en el artículo, R vs Python vs SQL vs Others...\n",
    "\n",
    "#### Nota: adjuntar referencias adicionales, figuras, código propio, etc."
   ]
  },
  {
   "cell_type": "markdown",
   "metadata": {},
   "source": [
    "### Entrega:\n",
    "- Un solo documento en formato PDF, aunque es preferible entregar el análisis del artículo en un notebook .ipynb.\n",
    "- Las entregas sólo serán validas si se realizan a través de la plataforma Studium.\n",
    "- Es una actividad opcional para el alumno que quiera profundizar en la materia vista en clase. Solo en primera convocatoria."
   ]
  },
  {
   "cell_type": "markdown",
   "metadata": {},
   "source": [
    "### Fecha Entrega\n",
    "- Convocatoria 1 - 26/01/2025, 00:00 AM CEST"
   ]
  }
 ],
 "metadata": {
  "kernelspec": {
   "display_name": "Python 3 (ipykernel)",
   "language": "python",
   "name": "python3"
  },
  "language_info": {
   "codemirror_mode": {
    "name": "ipython",
    "version": 3
   },
   "file_extension": ".py",
   "mimetype": "text/x-python",
   "name": "python",
   "nbconvert_exporter": "python",
   "pygments_lexer": "ipython3",
   "version": "3.11.4"
  }
 },
 "nbformat": 4,
 "nbformat_minor": 4
}
